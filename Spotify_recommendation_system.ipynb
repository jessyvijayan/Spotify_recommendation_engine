{
 "cells": [
  {
   "cell_type": "markdown",
   "id": "28dee0c1",
   "metadata": {},
   "source": [
    "## Imprting necessary libraries"
   ]
  },
  {
   "cell_type": "code",
   "execution_count": 62,
   "id": "3290636a",
   "metadata": {},
   "outputs": [],
   "source": [
    "# Data manipulation & handling libraries\n",
    "import pandas as pd \n",
    "import numpy as np\n",
    "\n",
    "# Data visualisation\n",
    "import matplotlib.pyplot as plt\n",
    "\n",
    "# NMF\n",
    "from sklearn.decomposition import NMF\n",
    "\n",
    "# KMmeans\n",
    "from sklearn.cluster import KMeans\n",
    "\n",
    "# Nearest neighbors\n",
    "from sklearn.neighbors import NearestNeighbors"
   ]
  },
  {
   "cell_type": "markdown",
   "id": "cdd4f7cf",
   "metadata": {},
   "source": [
    "## Loading the dataset"
   ]
  },
  {
   "cell_type": "code",
   "execution_count": 2,
   "id": "50319edf",
   "metadata": {},
   "outputs": [],
   "source": [
    "df = pd.read_csv('spotify.xls',index_col=0)"
   ]
  },
  {
   "cell_type": "code",
   "execution_count": 3,
   "id": "1d3421ae",
   "metadata": {},
   "outputs": [
    {
     "data": {
      "text/html": [
       "<div>\n",
       "<style scoped>\n",
       "    .dataframe tbody tr th:only-of-type {\n",
       "        vertical-align: middle;\n",
       "    }\n",
       "\n",
       "    .dataframe tbody tr th {\n",
       "        vertical-align: top;\n",
       "    }\n",
       "\n",
       "    .dataframe thead th {\n",
       "        text-align: right;\n",
       "    }\n",
       "</style>\n",
       "<table border=\"1\" class=\"dataframe\">\n",
       "  <thead>\n",
       "    <tr style=\"text-align: right;\">\n",
       "      <th></th>\n",
       "      <th>song_1</th>\n",
       "      <th>song_2</th>\n",
       "      <th>song_3</th>\n",
       "      <th>song_4</th>\n",
       "      <th>song_5</th>\n",
       "      <th>song_6</th>\n",
       "      <th>song_7</th>\n",
       "      <th>song_8</th>\n",
       "      <th>song_9</th>\n",
       "      <th>song_10</th>\n",
       "      <th>...</th>\n",
       "      <th>song_4991</th>\n",
       "      <th>song_4992</th>\n",
       "      <th>song_4993</th>\n",
       "      <th>song_4994</th>\n",
       "      <th>song_4995</th>\n",
       "      <th>song_4996</th>\n",
       "      <th>song_4997</th>\n",
       "      <th>song_4998</th>\n",
       "      <th>song_4999</th>\n",
       "      <th>song_5000</th>\n",
       "    </tr>\n",
       "  </thead>\n",
       "  <tbody>\n",
       "    <tr>\n",
       "      <th>user_1</th>\n",
       "      <td>2</td>\n",
       "      <td>2</td>\n",
       "      <td>8</td>\n",
       "      <td>8</td>\n",
       "      <td>13</td>\n",
       "      <td>1</td>\n",
       "      <td>4</td>\n",
       "      <td>9</td>\n",
       "      <td>1</td>\n",
       "      <td>2</td>\n",
       "      <td>...</td>\n",
       "      <td>14</td>\n",
       "      <td>2</td>\n",
       "      <td>14</td>\n",
       "      <td>1</td>\n",
       "      <td>9</td>\n",
       "      <td>0</td>\n",
       "      <td>11</td>\n",
       "      <td>6</td>\n",
       "      <td>14</td>\n",
       "      <td>7</td>\n",
       "    </tr>\n",
       "    <tr>\n",
       "      <th>user_2</th>\n",
       "      <td>13</td>\n",
       "      <td>5</td>\n",
       "      <td>5</td>\n",
       "      <td>5</td>\n",
       "      <td>12</td>\n",
       "      <td>8</td>\n",
       "      <td>10</td>\n",
       "      <td>10</td>\n",
       "      <td>2</td>\n",
       "      <td>2</td>\n",
       "      <td>...</td>\n",
       "      <td>10</td>\n",
       "      <td>6</td>\n",
       "      <td>11</td>\n",
       "      <td>1</td>\n",
       "      <td>1</td>\n",
       "      <td>5</td>\n",
       "      <td>12</td>\n",
       "      <td>8</td>\n",
       "      <td>3</td>\n",
       "      <td>0</td>\n",
       "    </tr>\n",
       "    <tr>\n",
       "      <th>user_3</th>\n",
       "      <td>3</td>\n",
       "      <td>9</td>\n",
       "      <td>2</td>\n",
       "      <td>8</td>\n",
       "      <td>0</td>\n",
       "      <td>1</td>\n",
       "      <td>11</td>\n",
       "      <td>7</td>\n",
       "      <td>3</td>\n",
       "      <td>7</td>\n",
       "      <td>...</td>\n",
       "      <td>9</td>\n",
       "      <td>5</td>\n",
       "      <td>7</td>\n",
       "      <td>15</td>\n",
       "      <td>12</td>\n",
       "      <td>13</td>\n",
       "      <td>14</td>\n",
       "      <td>5</td>\n",
       "      <td>0</td>\n",
       "      <td>14</td>\n",
       "    </tr>\n",
       "    <tr>\n",
       "      <th>user_4</th>\n",
       "      <td>2</td>\n",
       "      <td>6</td>\n",
       "      <td>7</td>\n",
       "      <td>8</td>\n",
       "      <td>14</td>\n",
       "      <td>0</td>\n",
       "      <td>12</td>\n",
       "      <td>7</td>\n",
       "      <td>8</td>\n",
       "      <td>1</td>\n",
       "      <td>...</td>\n",
       "      <td>9</td>\n",
       "      <td>15</td>\n",
       "      <td>9</td>\n",
       "      <td>14</td>\n",
       "      <td>10</td>\n",
       "      <td>6</td>\n",
       "      <td>11</td>\n",
       "      <td>13</td>\n",
       "      <td>6</td>\n",
       "      <td>0</td>\n",
       "    </tr>\n",
       "    <tr>\n",
       "      <th>user_5</th>\n",
       "      <td>11</td>\n",
       "      <td>12</td>\n",
       "      <td>8</td>\n",
       "      <td>6</td>\n",
       "      <td>13</td>\n",
       "      <td>7</td>\n",
       "      <td>0</td>\n",
       "      <td>7</td>\n",
       "      <td>3</td>\n",
       "      <td>13</td>\n",
       "      <td>...</td>\n",
       "      <td>12</td>\n",
       "      <td>14</td>\n",
       "      <td>11</td>\n",
       "      <td>11</td>\n",
       "      <td>11</td>\n",
       "      <td>7</td>\n",
       "      <td>3</td>\n",
       "      <td>6</td>\n",
       "      <td>11</td>\n",
       "      <td>7</td>\n",
       "    </tr>\n",
       "    <tr>\n",
       "      <th>...</th>\n",
       "      <td>...</td>\n",
       "      <td>...</td>\n",
       "      <td>...</td>\n",
       "      <td>...</td>\n",
       "      <td>...</td>\n",
       "      <td>...</td>\n",
       "      <td>...</td>\n",
       "      <td>...</td>\n",
       "      <td>...</td>\n",
       "      <td>...</td>\n",
       "      <td>...</td>\n",
       "      <td>...</td>\n",
       "      <td>...</td>\n",
       "      <td>...</td>\n",
       "      <td>...</td>\n",
       "      <td>...</td>\n",
       "      <td>...</td>\n",
       "      <td>...</td>\n",
       "      <td>...</td>\n",
       "      <td>...</td>\n",
       "      <td>...</td>\n",
       "    </tr>\n",
       "    <tr>\n",
       "      <th>user_996</th>\n",
       "      <td>8</td>\n",
       "      <td>0</td>\n",
       "      <td>11</td>\n",
       "      <td>10</td>\n",
       "      <td>1</td>\n",
       "      <td>10</td>\n",
       "      <td>13</td>\n",
       "      <td>13</td>\n",
       "      <td>10</td>\n",
       "      <td>6</td>\n",
       "      <td>...</td>\n",
       "      <td>10</td>\n",
       "      <td>0</td>\n",
       "      <td>8</td>\n",
       "      <td>4</td>\n",
       "      <td>0</td>\n",
       "      <td>7</td>\n",
       "      <td>13</td>\n",
       "      <td>7</td>\n",
       "      <td>2</td>\n",
       "      <td>6</td>\n",
       "    </tr>\n",
       "    <tr>\n",
       "      <th>user_997</th>\n",
       "      <td>7</td>\n",
       "      <td>6</td>\n",
       "      <td>9</td>\n",
       "      <td>6</td>\n",
       "      <td>15</td>\n",
       "      <td>6</td>\n",
       "      <td>14</td>\n",
       "      <td>2</td>\n",
       "      <td>9</td>\n",
       "      <td>7</td>\n",
       "      <td>...</td>\n",
       "      <td>15</td>\n",
       "      <td>9</td>\n",
       "      <td>2</td>\n",
       "      <td>2</td>\n",
       "      <td>6</td>\n",
       "      <td>1</td>\n",
       "      <td>0</td>\n",
       "      <td>5</td>\n",
       "      <td>15</td>\n",
       "      <td>11</td>\n",
       "    </tr>\n",
       "    <tr>\n",
       "      <th>user_998</th>\n",
       "      <td>6</td>\n",
       "      <td>2</td>\n",
       "      <td>1</td>\n",
       "      <td>5</td>\n",
       "      <td>1</td>\n",
       "      <td>7</td>\n",
       "      <td>2</td>\n",
       "      <td>4</td>\n",
       "      <td>4</td>\n",
       "      <td>0</td>\n",
       "      <td>...</td>\n",
       "      <td>0</td>\n",
       "      <td>13</td>\n",
       "      <td>6</td>\n",
       "      <td>13</td>\n",
       "      <td>0</td>\n",
       "      <td>1</td>\n",
       "      <td>11</td>\n",
       "      <td>13</td>\n",
       "      <td>6</td>\n",
       "      <td>13</td>\n",
       "    </tr>\n",
       "    <tr>\n",
       "      <th>user_999</th>\n",
       "      <td>7</td>\n",
       "      <td>0</td>\n",
       "      <td>8</td>\n",
       "      <td>12</td>\n",
       "      <td>6</td>\n",
       "      <td>2</td>\n",
       "      <td>6</td>\n",
       "      <td>2</td>\n",
       "      <td>0</td>\n",
       "      <td>12</td>\n",
       "      <td>...</td>\n",
       "      <td>14</td>\n",
       "      <td>7</td>\n",
       "      <td>12</td>\n",
       "      <td>3</td>\n",
       "      <td>5</td>\n",
       "      <td>15</td>\n",
       "      <td>5</td>\n",
       "      <td>11</td>\n",
       "      <td>9</td>\n",
       "      <td>12</td>\n",
       "    </tr>\n",
       "    <tr>\n",
       "      <th>user_1000</th>\n",
       "      <td>6</td>\n",
       "      <td>15</td>\n",
       "      <td>0</td>\n",
       "      <td>14</td>\n",
       "      <td>1</td>\n",
       "      <td>11</td>\n",
       "      <td>8</td>\n",
       "      <td>8</td>\n",
       "      <td>14</td>\n",
       "      <td>7</td>\n",
       "      <td>...</td>\n",
       "      <td>12</td>\n",
       "      <td>5</td>\n",
       "      <td>0</td>\n",
       "      <td>4</td>\n",
       "      <td>2</td>\n",
       "      <td>4</td>\n",
       "      <td>0</td>\n",
       "      <td>15</td>\n",
       "      <td>4</td>\n",
       "      <td>5</td>\n",
       "    </tr>\n",
       "  </tbody>\n",
       "</table>\n",
       "<p>1000 rows × 5000 columns</p>\n",
       "</div>"
      ],
      "text/plain": [
       "           song_1  song_2  song_3  song_4  song_5  song_6  song_7  song_8  \\\n",
       "user_1          2       2       8       8      13       1       4       9   \n",
       "user_2         13       5       5       5      12       8      10      10   \n",
       "user_3          3       9       2       8       0       1      11       7   \n",
       "user_4          2       6       7       8      14       0      12       7   \n",
       "user_5         11      12       8       6      13       7       0       7   \n",
       "...           ...     ...     ...     ...     ...     ...     ...     ...   \n",
       "user_996        8       0      11      10       1      10      13      13   \n",
       "user_997        7       6       9       6      15       6      14       2   \n",
       "user_998        6       2       1       5       1       7       2       4   \n",
       "user_999        7       0       8      12       6       2       6       2   \n",
       "user_1000       6      15       0      14       1      11       8       8   \n",
       "\n",
       "           song_9  song_10  ...  song_4991  song_4992  song_4993  song_4994  \\\n",
       "user_1          1        2  ...         14          2         14          1   \n",
       "user_2          2        2  ...         10          6         11          1   \n",
       "user_3          3        7  ...          9          5          7         15   \n",
       "user_4          8        1  ...          9         15          9         14   \n",
       "user_5          3       13  ...         12         14         11         11   \n",
       "...           ...      ...  ...        ...        ...        ...        ...   \n",
       "user_996       10        6  ...         10          0          8          4   \n",
       "user_997        9        7  ...         15          9          2          2   \n",
       "user_998        4        0  ...          0         13          6         13   \n",
       "user_999        0       12  ...         14          7         12          3   \n",
       "user_1000      14        7  ...         12          5          0          4   \n",
       "\n",
       "           song_4995  song_4996  song_4997  song_4998  song_4999  song_5000  \n",
       "user_1             9          0         11          6         14          7  \n",
       "user_2             1          5         12          8          3          0  \n",
       "user_3            12         13         14          5          0         14  \n",
       "user_4            10          6         11         13          6          0  \n",
       "user_5            11          7          3          6         11          7  \n",
       "...              ...        ...        ...        ...        ...        ...  \n",
       "user_996           0          7         13          7          2          6  \n",
       "user_997           6          1          0          5         15         11  \n",
       "user_998           0          1         11         13          6         13  \n",
       "user_999           5         15          5         11          9         12  \n",
       "user_1000          2          4          0         15          4          5  \n",
       "\n",
       "[1000 rows x 5000 columns]"
      ]
     },
     "execution_count": 3,
     "metadata": {},
     "output_type": "execute_result"
    }
   ],
   "source": [
    "df"
   ]
  },
  {
   "cell_type": "markdown",
   "id": "283c6a20",
   "metadata": {},
   "source": [
    "## Understanding the data"
   ]
  },
  {
   "cell_type": "code",
   "execution_count": 4,
   "id": "02d7f096",
   "metadata": {},
   "outputs": [
    {
     "name": "stdout",
     "output_type": "stream",
     "text": [
      "<class 'pandas.core.frame.DataFrame'>\n",
      "Index: 1000 entries, user_1 to user_1000\n",
      "Columns: 5000 entries, song_1 to song_5000\n",
      "dtypes: int64(5000)\n",
      "memory usage: 38.2+ MB\n"
     ]
    }
   ],
   "source": [
    "df.info()"
   ]
  },
  {
   "cell_type": "code",
   "execution_count": 5,
   "id": "3a9039af",
   "metadata": {},
   "outputs": [
    {
     "data": {
      "text/plain": [
       "(1000, 5000)"
      ]
     },
     "execution_count": 5,
     "metadata": {},
     "output_type": "execute_result"
    }
   ],
   "source": [
    "df.shape"
   ]
  },
  {
   "cell_type": "code",
   "execution_count": 6,
   "id": "f680b262",
   "metadata": {},
   "outputs": [
    {
     "data": {
      "text/plain": [
       "0"
      ]
     },
     "execution_count": 6,
     "metadata": {},
     "output_type": "execute_result"
    }
   ],
   "source": [
    "df.isnull().sum().sum()"
   ]
  },
  {
   "cell_type": "code",
   "execution_count": 7,
   "id": "529a44be",
   "metadata": {},
   "outputs": [],
   "source": [
    "X = df.values"
   ]
  },
  {
   "cell_type": "code",
   "execution_count": 8,
   "id": "15b6204b",
   "metadata": {},
   "outputs": [
    {
     "data": {
      "text/plain": [
       "array([[ 2,  2,  8, ...,  6, 14,  7],\n",
       "       [13,  5,  5, ...,  8,  3,  0],\n",
       "       [ 3,  9,  2, ...,  5,  0, 14],\n",
       "       ...,\n",
       "       [ 6,  2,  1, ..., 13,  6, 13],\n",
       "       [ 7,  0,  8, ..., 11,  9, 12],\n",
       "       [ 6, 15,  0, ..., 15,  4,  5]], dtype=int64)"
      ]
     },
     "execution_count": 8,
     "metadata": {},
     "output_type": "execute_result"
    }
   ],
   "source": [
    "X"
   ]
  },
  {
   "cell_type": "markdown",
   "id": "47a61157",
   "metadata": {},
   "source": [
    "## Non-negative Matrix Factorization (NMF)"
   ]
  },
  {
   "cell_type": "code",
   "execution_count": 9,
   "id": "81ecf35f",
   "metadata": {},
   "outputs": [],
   "source": [
    "nmf = NMF(n_components=100,max_iter=1000,random_state=10) # n_components = features,max_iter = no. of iterations allowed"
   ]
  },
  {
   "cell_type": "code",
   "execution_count": 10,
   "id": "c1754a5e",
   "metadata": {},
   "outputs": [
    {
     "name": "stderr",
     "output_type": "stream",
     "text": [
      "C:\\Users\\MJO11805\\AppData\\Roaming\\Python\\Python39\\site-packages\\sklearn\\decomposition\\_nmf.py:289: FutureWarning: The 'init' value, when 'init=None' and n_components is less than n_samples and n_features, will be changed from 'nndsvd' to 'nndsvda' in 1.1 (renaming of 0.26).\n",
      "  warnings.warn(\n",
      "C:\\Users\\MJO11805\\AppData\\Roaming\\Python\\Python39\\site-packages\\sklearn\\decomposition\\_nmf.py:1637: ConvergenceWarning: Maximum number of iterations 1000 reached. Increase it to improve convergence.\n",
      "  warnings.warn(\n"
     ]
    },
    {
     "data": {
      "text/plain": [
       "NMF(max_iter=1000, n_components=100, random_state=10)"
      ]
     },
     "execution_count": 10,
     "metadata": {},
     "output_type": "execute_result"
    }
   ],
   "source": [
    "nmf.fit(X)"
   ]
  },
  {
   "cell_type": "code",
   "execution_count": 11,
   "id": "3989eb1a",
   "metadata": {},
   "outputs": [],
   "source": [
    "user_matrix = nmf.transform(X)"
   ]
  },
  {
   "cell_type": "code",
   "execution_count": 12,
   "id": "d2d2b401",
   "metadata": {},
   "outputs": [],
   "source": [
    "song_matrix = nmf.components_.T"
   ]
  },
  {
   "cell_type": "code",
   "execution_count": 13,
   "id": "d12b85e7",
   "metadata": {},
   "outputs": [
    {
     "data": {
      "text/plain": [
       "array([[0.        , 0.        , 1.65917367, ..., 0.        , 0.        ,\n",
       "        1.87570247],\n",
       "       [0.        , 0.        , 0.        , ..., 2.8027976 , 0.        ,\n",
       "        0.        ],\n",
       "       [0.        , 0.        , 0.        , ..., 0.        , 0.        ,\n",
       "        0.        ],\n",
       "       ...,\n",
       "       [0.        , 0.        , 0.        , ..., 0.        , 4.62367029,\n",
       "        0.        ],\n",
       "       [0.        , 2.11579518, 0.00829455, ..., 0.        , 0.        ,\n",
       "        1.07232688],\n",
       "       [0.        , 0.        , 0.        , ..., 0.        , 1.69048514,\n",
       "        0.        ]])"
      ]
     },
     "execution_count": 13,
     "metadata": {},
     "output_type": "execute_result"
    }
   ],
   "source": [
    "user_matrix"
   ]
  },
  {
   "cell_type": "code",
   "execution_count": 14,
   "id": "0ea52ec0",
   "metadata": {},
   "outputs": [
    {
     "data": {
      "text/plain": [
       "array([[0.        , 0.24795046, 0.02185775, ..., 0.13157294, 0.        ,\n",
       "        0.19138292],\n",
       "       [0.25238391, 0.18164336, 0.        , ..., 0.07732547, 0.0418576 ,\n",
       "        0.        ],\n",
       "       [0.46913486, 0.21636686, 0.00763448, ..., 0.31286831, 0.        ,\n",
       "        0.40977389],\n",
       "       ...,\n",
       "       [0.01743582, 0.16529751, 0.23152147, ..., 0.21842531, 0.30490947,\n",
       "        0.23801301],\n",
       "       [0.        , 0.45217501, 0.31117264, ..., 0.16388584, 0.34932455,\n",
       "        0.        ],\n",
       "       [0.20204397, 0.17037827, 0.15762438, ..., 0.15301826, 0.15805216,\n",
       "        0.04300445]])"
      ]
     },
     "execution_count": 14,
     "metadata": {},
     "output_type": "execute_result"
    }
   ],
   "source": [
    "song_matrix"
   ]
  },
  {
   "cell_type": "code",
   "execution_count": 15,
   "id": "0b29dea6",
   "metadata": {},
   "outputs": [
    {
     "data": {
      "text/plain": [
       "(1000, 100)"
      ]
     },
     "execution_count": 15,
     "metadata": {},
     "output_type": "execute_result"
    }
   ],
   "source": [
    "user_matrix.shape"
   ]
  },
  {
   "cell_type": "code",
   "execution_count": 16,
   "id": "3a0b31d9",
   "metadata": {},
   "outputs": [
    {
     "data": {
      "text/plain": [
       "(5000, 100)"
      ]
     },
     "execution_count": 16,
     "metadata": {},
     "output_type": "execute_result"
    }
   ],
   "source": [
    "song_matrix.shape"
   ]
  },
  {
   "cell_type": "markdown",
   "id": "7a56b337",
   "metadata": {},
   "source": [
    "## Steps for building recommendation system - Type 1 (small datasets example local library)\n",
    "    1. Consider recommending songs to the first user(row location 0 in user matrix)\n",
    "    2. Find the euclidean distance between first user and remaining 999 users\n",
    "    3. Find out top 10 songs heard by nearest 5 users\n",
    "    4. Recommend these 10 songs to user 1"
   ]
  },
  {
   "cell_type": "markdown",
   "id": "bc771380",
   "metadata": {},
   "source": [
    "### Calculating the distance "
   ]
  },
  {
   "cell_type": "code",
   "execution_count": 19,
   "id": "c23f087b",
   "metadata": {},
   "outputs": [],
   "source": [
    "def distance(u1,u2):\n",
    "    return pow(sum(pow(u1[x]-u2[x],2) for x in range(len(u1))),0.5)"
   ]
  },
  {
   "cell_type": "code",
   "execution_count": 18,
   "id": "7b3cb840",
   "metadata": {},
   "outputs": [
    {
     "data": {
      "text/plain": [
       "15.974796491754333"
      ]
     },
     "execution_count": 18,
     "metadata": {},
     "output_type": "execute_result"
    }
   ],
   "source": [
    "distance(user_matrix[0],user_matrix[1])"
   ]
  },
  {
   "cell_type": "markdown",
   "id": "7fe11275",
   "metadata": {},
   "source": [
    "### Calculating distance between user 1 and remaining 999 users"
   ]
  },
  {
   "cell_type": "code",
   "execution_count": 20,
   "id": "24138427",
   "metadata": {},
   "outputs": [],
   "source": [
    "def dist_from_remaining_users(b_user,user_matrix):\n",
    "    dist = []\n",
    "    for i in range(len(user_matrix)):\n",
    "        if b_user != i:\n",
    "            dist.append(distance(user_matrix[b_user],user_matrix[i]))\n",
    "    return dist "
   ]
  },
  {
   "cell_type": "code",
   "execution_count": 21,
   "id": "d311e378",
   "metadata": {},
   "outputs": [],
   "source": [
    "dist_user0= dist_from_remaining_users(0,user_matrix)"
   ]
  },
  {
   "cell_type": "code",
   "execution_count": 23,
   "id": "dfccd7a7",
   "metadata": {},
   "outputs": [
    {
     "data": {
      "text/plain": [
       "999"
      ]
     },
     "execution_count": 23,
     "metadata": {},
     "output_type": "execute_result"
    }
   ],
   "source": [
    "len(dist_user0)"
   ]
  },
  {
   "cell_type": "markdown",
   "id": "e599ca60",
   "metadata": {},
   "source": [
    "### Finding nearest 5 users"
   ]
  },
  {
   "cell_type": "code",
   "execution_count": 24,
   "id": "e7e299e9",
   "metadata": {},
   "outputs": [],
   "source": [
    "nearest_users = np.argsort(dist_user0)[:5]"
   ]
  },
  {
   "cell_type": "code",
   "execution_count": 25,
   "id": "fa6bc9c6",
   "metadata": {},
   "outputs": [
    {
     "data": {
      "text/plain": [
       "array([394, 779, 378, 349, 214], dtype=int64)"
      ]
     },
     "execution_count": 25,
     "metadata": {},
     "output_type": "execute_result"
    }
   ],
   "source": [
    "nearest_users"
   ]
  },
  {
   "cell_type": "markdown",
   "id": "fbdf7694",
   "metadata": {},
   "source": [
    "### Finding songs heard by nearest users"
   ]
  },
  {
   "cell_type": "code",
   "execution_count": 27,
   "id": "37ea179d",
   "metadata": {},
   "outputs": [
    {
     "name": "stdout",
     "output_type": "stream",
     "text": [
      "Songs heard by user  394 are :\n",
      "Index(['song_1', 'song_2', 'song_3', 'song_4', 'song_5', 'song_7', 'song_8',\n",
      "       'song_9', 'song_10', 'song_11',\n",
      "       ...\n",
      "       'song_4991', 'song_4992', 'song_4993', 'song_4994', 'song_4995',\n",
      "       'song_4996', 'song_4997', 'song_4998', 'song_4999', 'song_5000'],\n",
      "      dtype='object', length=4694)\n",
      "Songs heard by user  779 are :\n",
      "Index(['song_1', 'song_2', 'song_3', 'song_4', 'song_5', 'song_6', 'song_7',\n",
      "       'song_8', 'song_9', 'song_10',\n",
      "       ...\n",
      "       'song_4991', 'song_4992', 'song_4993', 'song_4994', 'song_4995',\n",
      "       'song_4996', 'song_4997', 'song_4998', 'song_4999', 'song_5000'],\n",
      "      dtype='object', length=4716)\n",
      "Songs heard by user  378 are :\n",
      "Index(['song_1', 'song_2', 'song_3', 'song_4', 'song_5', 'song_6', 'song_7',\n",
      "       'song_8', 'song_10', 'song_12',\n",
      "       ...\n",
      "       'song_4989', 'song_4990', 'song_4992', 'song_4993', 'song_4995',\n",
      "       'song_4996', 'song_4997', 'song_4998', 'song_4999', 'song_5000'],\n",
      "      dtype='object', length=4676)\n",
      "Songs heard by user  349 are :\n",
      "Index(['song_1', 'song_2', 'song_3', 'song_4', 'song_5', 'song_6', 'song_7',\n",
      "       'song_8', 'song_9', 'song_10',\n",
      "       ...\n",
      "       'song_4990', 'song_4991', 'song_4992', 'song_4993', 'song_4994',\n",
      "       'song_4995', 'song_4996', 'song_4997', 'song_4998', 'song_4999'],\n",
      "      dtype='object', length=4665)\n",
      "Songs heard by user  214 are :\n",
      "Index(['song_1', 'song_2', 'song_3', 'song_4', 'song_5', 'song_6', 'song_7',\n",
      "       'song_8', 'song_9', 'song_10',\n",
      "       ...\n",
      "       'song_4991', 'song_4992', 'song_4993', 'song_4994', 'song_4995',\n",
      "       'song_4996', 'song_4997', 'song_4998', 'song_4999', 'song_5000'],\n",
      "      dtype='object', length=4693)\n"
     ]
    }
   ],
   "source": [
    "for i in nearest_users:\n",
    "    print('Songs heard by user ',i,'are :')\n",
    "    temp = df.iloc[i]\n",
    "    print(temp[temp.values != 0].index)"
   ]
  },
  {
   "cell_type": "markdown",
   "id": "ba7f6919",
   "metadata": {},
   "source": [
    "## Finding top 10 songs for nearest users"
   ]
  },
  {
   "cell_type": "code",
   "execution_count": 32,
   "id": "71cae944",
   "metadata": {},
   "outputs": [],
   "source": [
    "def top_n_songs(nearest_users,df,n=10):\n",
    "    temp = df.iloc[nearest_users]\n",
    "    dict1= temp.max().to_dict() # finding the maximum values from temp and storing in dict1\n",
    "    # Converting every keyvalue pair into a tuple and swapping them for sorting purpose,end result is a list of \n",
    "    # songs and no. of times heard tuple\n",
    "    sorted_dict = sorted(dict1.items(),key = lambda keyvalue: (keyvalue[1],keyvalue[0]),reverse=True)[:n]\n",
    "    return [x[0] for x in sorted_dict]"
   ]
  },
  {
   "cell_type": "code",
   "execution_count": 33,
   "id": "faa78b25",
   "metadata": {},
   "outputs": [
    {
     "data": {
      "text/plain": [
       "['song_982', 'song_978', 'song_975', 'song_974', 'song_971']"
      ]
     },
     "execution_count": 33,
     "metadata": {},
     "output_type": "execute_result"
    }
   ],
   "source": [
    "top_n_songs(nearest_users,df,n=5)"
   ]
  },
  {
   "cell_type": "markdown",
   "id": "81707ef9",
   "metadata": {},
   "source": [
    "## KMeans clustering - Type 2 (large datasets example spotify)"
   ]
  },
  {
   "cell_type": "code",
   "execution_count": 35,
   "id": "0701902a",
   "metadata": {},
   "outputs": [],
   "source": [
    "wcss = {}\n",
    "for k in range (1,50):\n",
    "    kmeans = KMeans(n_clusters=k,max_iter=1000).fit(song_matrix)\n",
    "    wcss[k] = kmeans.inertia_"
   ]
  },
  {
   "cell_type": "code",
   "execution_count": 36,
   "id": "4bff55a5",
   "metadata": {
    "scrolled": true
   },
   "outputs": [
    {
     "data": {
      "text/plain": [
       "{1: 14101.98490287895,\n",
       " 2: 13918.803927617435,\n",
       " 3: 13788.013670180551,\n",
       " 4: 13693.524189578098,\n",
       " 5: 13614.049469020885,\n",
       " 6: 13546.664578135644,\n",
       " 7: 13492.436385744828,\n",
       " 8: 13437.887971662009,\n",
       " 9: 13395.413488943985,\n",
       " 10: 13350.815629679444,\n",
       " 11: 13322.521535550648,\n",
       " 12: 13283.116139319724,\n",
       " 13: 13258.669225372516,\n",
       " 14: 13228.291251718132,\n",
       " 15: 13206.761969357796,\n",
       " 16: 13182.99508382459,\n",
       " 17: 13154.162003937516,\n",
       " 18: 13142.357791004399,\n",
       " 19: 13102.652678969562,\n",
       " 20: 13108.059693868414,\n",
       " 21: 13078.789212222106,\n",
       " 22: 13064.706700618568,\n",
       " 23: 13049.3353729952,\n",
       " 24: 13024.133130597844,\n",
       " 25: 13011.649401227594,\n",
       " 26: 12989.11136039615,\n",
       " 27: 12987.053199692162,\n",
       " 28: 12962.965873826095,\n",
       " 29: 12954.857076731803,\n",
       " 30: 12932.186251607985,\n",
       " 31: 12922.258291552182,\n",
       " 32: 12905.185657815126,\n",
       " 33: 12896.321532830272,\n",
       " 34: 12882.589425171376,\n",
       " 35: 12868.499551760597,\n",
       " 36: 12862.763257052764,\n",
       " 37: 12846.619435254668,\n",
       " 38: 12836.639625727235,\n",
       " 39: 12827.038100262256,\n",
       " 40: 12812.92263722221,\n",
       " 41: 12798.394577529487,\n",
       " 42: 12779.980483953334,\n",
       " 43: 12782.560005140675,\n",
       " 44: 12779.213542880656,\n",
       " 45: 12759.80464096773,\n",
       " 46: 12739.771868733518,\n",
       " 47: 12733.074983268358,\n",
       " 48: 12724.930462351918,\n",
       " 49: 12710.30400746337}"
      ]
     },
     "execution_count": 36,
     "metadata": {},
     "output_type": "execute_result"
    }
   ],
   "source": [
    "wcss"
   ]
  },
  {
   "cell_type": "code",
   "execution_count": 40,
   "id": "499d331f",
   "metadata": {},
   "outputs": [
    {
     "data": {
      "text/plain": [
       "Text(0, 0.5, 'WCSS')"
      ]
     },
     "execution_count": 40,
     "metadata": {},
     "output_type": "execute_result"
    },
    {
     "data": {
      "image/png": "[encoded data removed]",
      "text/plain": [
       "<Figure size 432x288 with 1 Axes>"
      ]
     },
     "metadata": {
      "needs_background": "light"
     },
     "output_type": "display_data"
    }
   ],
   "source": [
    "plt.plot(wcss.keys(),wcss.values())\n",
    "plt.xlabel('No. of clusters')\n",
    "plt.ylabel('WCSS')"
   ]
  },
  {
   "cell_type": "code",
   "execution_count": 68,
   "id": "ef0e8dc7",
   "metadata": {},
   "outputs": [],
   "source": [
    "def songs_in_cluster(n_clusters,df,song_matrix,song_name,n_recommendations):\n",
    "    kmeans = KMeans(n_clusters=n_clusters,max_iter=1000).fit(song_matrix)\n",
    "    index_in_song = df.columns.to_list().index(song_name)\n",
    "    #print(index_in_song)\n",
    "    song_vector = song_matrix[index_in_song]\n",
    "    #print(song_vector)\n",
    "    all_songs_in_cluster = kmeans.predict(song_matrix)\n",
    "    #print(len(all_songs_in_cluster))\n",
    "    songs_in_selected_cluster = [x for x in range (len(all_songs_in_cluster))\n",
    "                                if all_songs_in_cluster[x] == kmeans.predict([song_vector])]\n",
    "    #print(songs_in_selected_cluster)\n",
    "    song_cluster = song_matrix[songs_in_selected_cluster]\n",
    "    #print(song_cluster)\n",
    "    neighbors = NearestNeighbors(n_neighbors=n_recommendations)\n",
    "    neighbors.fit(song_cluster)\n",
    "    recommended_songs = neighbors.kneighbors([song_vector])\n",
    "    #print(recommended_songs[1][0])\n",
    "    songs = df.columns\n",
    "    return [songs[x] for x in recommended_songs[1][0]]"
   ]
  },
  {
   "cell_type": "code",
   "execution_count": 69,
   "id": "904fb6f0",
   "metadata": {},
   "outputs": [
    {
     "data": {
      "text/plain": [
       "['song_2', 'song_220', 'song_172', 'song_142', 'song_74']"
      ]
     },
     "execution_count": 69,
     "metadata": {},
     "output_type": "execute_result"
    }
   ],
   "source": [
    "songs_in_cluster(15,df,song_matrix,'song_5',5)"
   ]
  }
 ],
 "metadata": {
  "kernelspec": {
   "display_name": "Python 3 (ipykernel)",
   "language": "python",
   "name": "python3"
  },
  "language_info": {
   "codemirror_mode": {
    "name": "ipython",
    "version": 3
   },
   "file_extension": ".py",
   "mimetype": "text/x-python",
   "name": "python",
   "nbconvert_exporter": "python",
   "pygments_lexer": "ipython3",
   "version": "3.9.7"
  }
 },
 "nbformat": 4,
 "nbformat_minor": 5
}
